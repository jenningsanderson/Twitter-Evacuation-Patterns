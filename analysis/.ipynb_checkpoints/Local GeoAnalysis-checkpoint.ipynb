{
 "metadata": {
  "language": "ruby",
  "name": "",
  "signature": "sha256:8738ec79b10fd6b2f3003639b056356caa280839fbf1f8f35a9449d91debd935"
 },
 "nbformat": 3,
 "nbformat_minor": 0,
 "worksheets": [
  {
   "cells": [
    {
     "cell_type": "code",
     "collapsed": false,
     "input": [
      "require_relative '/Users/jenningsanderson/Documents/Twitter-Evacutation-Patterns/config.rb'"
     ],
     "language": "python",
     "metadata": {},
     "outputs": [
      {
       "output_type": "stream",
       "stream": "stderr",
       "text": [
        "      ** Notice: The native BSON extension was not loaded. **\n",
        "\n",
        "      For optimal performance, use of the BSON extension is recommended.\n",
        "\n",
        "      To enable the extension make sure ENV['BSON_EXT_DISABLED'] is not set\n",
        "      and run the following command:\n",
        "\n",
        "        gem install bson_ext\n",
        "\n",
        "      If you continue to receive this message after installing, make sure that\n",
        "      the bson_ext gem is in your load path.\n"
       ]
      },
      {
       "metadata": {},
       "output_type": "pyout",
       "prompt_number": 1,
       "text": [
        "true"
       ]
      }
     ],
     "prompt_number": 1
    },
    {
     "cell_type": "code",
     "collapsed": false,
     "input": [
      "load 'models/twitterer.rb'"
     ],
     "language": "python",
     "metadata": {},
     "outputs": [
      {
       "metadata": {},
       "output_type": "pyout",
       "prompt_number": 2,
       "text": [
        "true"
       ]
      }
     ],
     "prompt_number": 2
    },
    {
     "cell_type": "code",
     "collapsed": false,
     "input": [
      "user = Twitterer.where({handle: 'iKhoiBui'}).first\n",
      "# user.process_tweets_to_clusters\n",
      "nil"
     ],
     "language": "python",
     "metadata": {},
     "outputs": [],
     "prompt_number": 2
    },
    {
     "cell_type": "code",
     "collapsed": false,
     "input": [
      "user.clusters.each do |cluster, tweets|\n",
      "  puts \"#{cluster}: #{user.tweet_regularity(tweets)}\"\n",
      "end\n",
      "nil"
     ],
     "language": "python",
     "metadata": {},
     "outputs": [
      {
       "output_type": "stream",
       "stream": "stdout",
       "text": [
        "0: 35.0\n"
       ]
      },
      {
       "output_type": "stream",
       "stream": "stdout",
       "text": [
        "1: 115.0\n"
       ]
      },
      {
       "output_type": "stream",
       "stream": "stdout",
       "text": [
        "2: 4.0\n"
       ]
      },
      {
       "output_type": "stream",
       "stream": "stdout",
       "text": [
        "3: 12.0\n"
       ]
      },
      {
       "output_type": "stream",
       "stream": "stdout",
       "text": [
        "4: 3.0\n"
       ]
      },
      {
       "output_type": "stream",
       "stream": "stdout",
       "text": [
        "5: 3.0\n"
       ]
      }
     ],
     "prompt_number": 3
    },
    {
     "cell_type": "code",
     "collapsed": false,
     "input": [
      "nil"
     ],
     "language": "python",
     "metadata": {},
     "outputs": [],
     "prompt_number": 3
    },
    {
     "cell_type": "code",
     "collapsed": false,
     "input": [
      "user = Twitterer.where({handle: 'iKhoiBui'}).first\n",
      "geojson = {\n",
      "  type: \"FeatureCollection\",\n",
      "  properties: {user: 'iKhoiBui'},\n",
      "  features: []\n",
      "  }\n",
      "\n",
      "puts user\n",
      "user.tweets.each do |tweet|\n",
      "  data = tweet.as_geojson\n",
      "  data[:properties].merge!({cluster: tweet.cluster})\n",
      "  geojson[:features] << data\n",
      "end\n",
      "\n",
      "File.write('/Users/jenningsanderson/Desktop/iKhoiBui.geojson',geojson.to_json)"
     ],
     "language": "python",
     "metadata": {},
     "outputs": [
      {
       "output_type": "stream",
       "stream": "stdout",
       "text": [
        "#<Twitterer:0x007f846bdd8f50>\n"
       ]
      },
      {
       "metadata": {},
       "output_type": "pyout",
       "prompt_number": 6,
       "text": [
        "60492"
       ]
      }
     ],
     "prompt_number": 6
    },
    {
     "cell_type": "code",
     "collapsed": false,
     "input": [
      "clusts = [0]*10\n",
      "user.tweets.each do |tweet|\n",
      "  clusts[tweet.cluster] +=1\n",
      "end\n",
      "clusts"
     ],
     "language": "python",
     "metadata": {},
     "outputs": [
      {
       "metadata": {},
       "output_type": "pyout",
       "prompt_number": 4,
       "text": [
        "[59, 170, 4, 16, 3, 4, 0, 0, 0, 10]"
       ]
      }
     ],
     "prompt_number": 4
    },
    {
     "cell_type": "code",
     "collapsed": false,
     "input": [
      "user.tweets.each do |tweet|\n",
      "  puts \"#{tweet.date} - #{tweet.cluster}\"\n",
      "end"
     ],
     "language": "python",
     "metadata": {},
     "outputs": [
      {
       "ename": "NameError",
       "evalue": "undefined local variable or method `user' for main:Object",
       "output_type": "pyerr",
       "traceback": [
        "\u001b[31mNameError\u001b[0m: undefined local variable or method `user' for main:Object",
        "\u001b[37m<main>:3:in `<main>'\u001b[0m",
        "\u001b[37m/usr/local/var/rbenv/versions/2.0.0-p247/lib/ruby/gems/2.0.0/gems/iruby-0.1.13/lib/iruby/backend.rb:8:in `eval'\u001b[0m",
        "\u001b[37m/usr/local/var/rbenv/versions/2.0.0-p247/lib/ruby/gems/2.0.0/gems/iruby-0.1.13/lib/iruby/backend.rb:8:in `eval'\u001b[0m",
        "\u001b[37m/usr/local/var/rbenv/versions/2.0.0-p247/lib/ruby/gems/2.0.0/gems/iruby-0.1.13/lib/iruby/kernel.rb:110:in `execute_request'\u001b[0m",
        "\u001b[37m/usr/local/var/rbenv/versions/2.0.0-p247/lib/ruby/gems/2.0.0/gems/iruby-0.1.13/lib/iruby/kernel.rb:62:in `run'\u001b[0m",
        "\u001b[37m/usr/local/var/rbenv/versions/2.0.0-p247/lib/ruby/gems/2.0.0/gems/iruby-0.1.13/lib/iruby/command.rb:30:in `run_kernel'\u001b[0m",
        "\u001b[37m/usr/local/var/rbenv/versions/2.0.0-p247/lib/ruby/gems/2.0.0/gems/iruby-0.1.13/lib/iruby/command.rb:16:in `run'\u001b[0m",
        "\u001b[37m/usr/local/var/rbenv/versions/2.0.0-p247/lib/ruby/gems/2.0.0/gems/iruby-0.1.13/bin/iruby:6:in `<top (required)>'\u001b[0m",
        "\u001b[37m/usr/local/var/rbenv/versions/2.0.0-p247/bin/iruby:23:in `load'\u001b[0m",
        "\u001b[37m/usr/local/var/rbenv/versions/2.0.0-p247/bin/iruby:23:in `<main>'\u001b[0m"
       ]
      }
     ],
     "prompt_number": 4
    },
    {
     "cell_type": "code",
     "collapsed": false,
     "input": [
      "puts user.tweets[30].inspect"
     ],
     "language": "python",
     "metadata": {},
     "outputs": [
      {
       "output_type": "stream",
       "stream": "stdout",
       "text": [
        "#<Tweet _id: BSON::ObjectId('53cd5d6c2ddc18138a08127b'), cluster: 0, coordinates: {\"type\"=>\"Point\", \"coordinates\"=>[-74.40370602, 39.38305618]}, date: 2012-10-22 20:00:11 -0600, handle: \"iKhoiBui\", text: \"@BigDaddyPancho thank you. You're a smart man lol.\", user: \"239071778\">\n"
       ]
      }
     ],
     "prompt_number": 9
    },
    {
     "cell_type": "code",
     "collapsed": false,
     "input": [
      "Twitterer.where(:cluster_locations.ne => nil).count()"
     ],
     "language": "python",
     "metadata": {},
     "outputs": [
      {
       "metadata": {},
       "output_type": "pyout",
       "prompt_number": 25,
       "text": [
        "20317"
       ]
      }
     ],
     "prompt_number": 25
    },
    {
     "cell_type": "code",
     "collapsed": false,
     "input": [
      "load 'models/twitterer.rb'"
     ],
     "language": "python",
     "metadata": {},
     "outputs": [
      {
       "metadata": {},
       "output_type": "pyout",
       "prompt_number": 28,
       "text": [
        "true"
       ]
      }
     ],
     "prompt_number": 28
    },
    {
     "cell_type": "code",
     "collapsed": false,
     "input": [
      "x = JSON.load(File.read('/Users/jenningsanderson/Documents/Twitter-Evacutation-Patterns/datasets/gold_anns_newest.json'))\n",
      "coded_users = []\n",
      "x.each do |id, tweet|\n",
      "  coded_users << tweet[\"user\"]\n",
      "end\n",
      "coded_users.uniq!\n",
      "coded_users.collect!{|name| name.gsub(/sandy_nj_\\d+_/,'')}"
     ],
     "language": "python",
     "metadata": {},
     "outputs": [
      {
       "metadata": {},
       "output_type": "pyout",
       "prompt_number": 26,
       "text": [
        "[\"GinaBoop21\", \"4thFloorWalkUp\", \"acbrush\", \"1903barisdamci\", \"aalhaider84\", \"977wctyJesse\", \"D_AGOSTINO\", \"AdieMeshel\", \"rcrocetti\", \"acdm\", \"onacitaveoz\", \"ccompitiello\", \"3ltutuykt\", \"2fritters\", \"502BIGBLOCK\", \"JFranxMon\", \"aby_orozco\", \"246TiffTiff\", \"nikkovision\", \"acdcrocker94\", \"forero29\", \"txcoonz\", \"voudonchilde\", \"adiesaurus\", \"abestt\", \"aaronlugo20\", \"yogabeth218\", \"AdamBroitman\", \"compa_tijero\", \"37kyle\", \"12CornersNYC\", \"ABerneche11\", \"hatchedit\", \"aanniemal\", \"ryryrocketss\", \"AbdulazizSadeq\", \"JoeeSmith19\", \"acordingley\", \"a13xandraaaa\", \"WaitingQueen\", \"danielleleiner\", \"abr74\", \"92Hughes92\", \"brittlizarda\", \"33amelie\", \"aidenscott\", \"5pointbuck\", \"aceytoso_2\", \"TravissGraham\", \"Nikki_DeMarco\", \"haleyybreen\", \"abrackin\", \"DDSethi\", \"haleighbethhh\", \"Mac_DA_45\", \"40Visionz\", \"b_mazzz\", \"132Sunshine\", \"1stFITNESSMC\", \"CluelessMaven\", \"adel1196\", \"aaziz830\", \"adawood30\", \"DbLeonor\", \"bakedtofu\", \"ActualyAmGeorge\", \"AdamVanBavel\", \"workfreelyblog\", \"HarriBoiii\", \"brieeellee\", \"AndeLund\", \"1Vincent\", \"Zach_Massari10\", \"Roze_316\", \"RedJazz43\", \"1xr650guy\", \"lizeeSuX\", \"4everSeductive\", \"AmberAAlonzo\", \"Kessel_Erich2\", \"adamebnit\", \"PainFresh6\", \"according2Drew\", \"Tyler_Mayer\", \"Sara_Persiano\", \"adampdouglas\", \"ACPressLee\", \"AdamHedenskog\", \"Caitles16\", \"adonatelle\", \"DJsonatra\", \"Scott_Gaffney\", \"GrooDs\", \"acwelch\", \"just_teevo\", \"mynameisluissss\", \"kcgirl2003\"]"
       ]
      }
     ],
     "prompt_number": 26
    },
    {
     "cell_type": "code",
     "collapsed": true,
     "input": [
      "coded_users"
     ],
     "language": "python",
     "metadata": {},
     "outputs": [
      {
       "metadata": {},
       "output_type": "pyout",
       "prompt_number": 31,
       "text": [
        "[\"GinaBoop21\", \"4thFloorWalkUp\", \"acbrush\", \"1903barisdamci\", \"aalhaider84\", \"977wctyJesse\", \"D_AGOSTINO\", \"AdieMeshel\", \"rcrocetti\", \"acdm\", \"onacitaveoz\", \"ccompitiello\", \"3ltutuykt\", \"2fritters\", \"502BIGBLOCK\", \"JFranxMon\", \"aby_orozco\", \"246TiffTiff\", \"nikkovision\", \"acdcrocker94\", \"forero29\", \"txcoonz\", \"voudonchilde\", \"adiesaurus\", \"abestt\", \"aaronlugo20\", \"yogabeth218\", \"AdamBroitman\", \"compa_tijero\", \"37kyle\", \"12CornersNYC\", \"ABerneche11\", \"hatchedit\", \"aanniemal\", \"ryryrocketss\", \"AbdulazizSadeq\", \"JoeeSmith19\", \"acordingley\", \"a13xandraaaa\", \"WaitingQueen\", \"danielleleiner\", \"abr74\", \"92Hughes92\", \"brittlizarda\", \"33amelie\", \"aidenscott\", \"5pointbuck\", \"aceytoso_2\", \"TravissGraham\", \"Nikki_DeMarco\", \"haleyybreen\", \"abrackin\", \"DDSethi\", \"haleighbethhh\", \"Mac_DA_45\", \"40Visionz\", \"b_mazzz\", \"132Sunshine\", \"1stFITNESSMC\", \"CluelessMaven\", \"adel1196\", \"aaziz830\", \"adawood30\", \"DbLeonor\", \"bakedtofu\", \"ActualyAmGeorge\", \"AdamVanBavel\", \"workfreelyblog\", \"HarriBoiii\", \"brieeellee\", \"AndeLund\", \"1Vincent\", \"Zach_Massari10\", \"Roze_316\", \"RedJazz43\", \"1xr650guy\", \"lizeeSuX\", \"4everSeductive\", \"AmberAAlonzo\", \"Kessel_Erich2\", \"adamebnit\", \"PainFresh6\", \"according2Drew\", \"Tyler_Mayer\", \"Sara_Persiano\", \"adampdouglas\", \"ACPressLee\", \"AdamHedenskog\", \"Caitles16\", \"adonatelle\", \"DJsonatra\", \"Scott_Gaffney\", \"GrooDs\", \"acwelch\", \"just_teevo\", \"mynameisluissss\", \"kcgirl2003\"]"
       ]
      }
     ],
     "prompt_number": 31
    },
    {
     "cell_type": "code",
     "collapsed": false,
     "input": [
      "Twitterer.where(:base_cluster.ne => nil).each_with_index do |user, index|\n",
      "  user.base_cluster_location = user.cluster_locations[user.base_cluster]\n",
      "  user.save!\n",
      "  \n",
      "  if index%1000==0\n",
      "    puts index\n",
      "  end\n",
      "end"
     ],
     "language": "python",
     "metadata": {},
     "outputs": [
      {
       "output_type": "stream",
       "stream": "stdout",
       "text": [
        "0\n"
       ]
      },
      {
       "output_type": "stream",
       "stream": "stdout",
       "text": [
        "1000\n"
       ]
      },
      {
       "output_type": "stream",
       "stream": "stdout",
       "text": [
        "2000\n"
       ]
      },
      {
       "output_type": "stream",
       "stream": "stdout",
       "text": [
        "3000\n"
       ]
      },
      {
       "output_type": "stream",
       "stream": "stdout",
       "text": [
        "4000\n"
       ]
      },
      {
       "output_type": "stream",
       "stream": "stdout",
       "text": [
        "5000\n"
       ]
      },
      {
       "output_type": "stream",
       "stream": "stdout",
       "text": [
        "6000\n"
       ]
      },
      {
       "output_type": "stream",
       "stream": "stdout",
       "text": [
        "7000\n"
       ]
      },
      {
       "output_type": "stream",
       "stream": "stdout",
       "text": [
        "8000\n"
       ]
      },
      {
       "output_type": "stream",
       "stream": "stdout",
       "text": [
        "9000\n"
       ]
      },
      {
       "output_type": "stream",
       "stream": "stdout",
       "text": [
        "10000\n"
       ]
      },
      {
       "output_type": "stream",
       "stream": "stdout",
       "text": [
        "11000\n"
       ]
      },
      {
       "output_type": "stream",
       "stream": "stdout",
       "text": [
        "12000\n"
       ]
      },
      {
       "output_type": "stream",
       "stream": "stdout",
       "text": [
        "13000\n"
       ]
      },
      {
       "output_type": "stream",
       "stream": "stdout",
       "text": [
        "14000\n"
       ]
      },
      {
       "output_type": "stream",
       "stream": "stdout",
       "text": [
        "15000\n"
       ]
      },
      {
       "output_type": "stream",
       "stream": "stdout",
       "text": [
        "16000\n"
       ]
      },
      {
       "output_type": "stream",
       "stream": "stdout",
       "text": [
        "17000\n"
       ]
      },
      {
       "output_type": "stream",
       "stream": "stdout",
       "text": [
        "18000\n"
       ]
      },
      {
       "output_type": "stream",
       "stream": "stdout",
       "text": [
        "19000\n"
       ]
      },
      {
       "metadata": {},
       "output_type": "pyout",
       "prompt_number": 29,
       "text": [
        "#<MongoMapper::Plugins::Querying::DecoratedPluckyQuery _type: {\"$in\"=>[\"Twitterer\"]}, base_cluster: {:$ne=>nil}, transformer: #<Proc:0x007fec0a898f70@/usr/local/var/rbenv/versions/2.0.0-p247/lib/ruby/gems/2.0.0/gems/mongo_mapper-0.13.1/lib/mongo_mapper/plugins/querying.rb:66 (lambda)>>"
       ]
      }
     ],
     "prompt_number": 29
    },
    {
     "cell_type": "code",
     "collapsed": false,
     "input": [
      "geojson_box = File.read('../GeoJSON/affected_coastline_4k.geojson')\n",
      "rgeo_geojson = RGeo::GeoJSON.decode(geojson_box, :json_parser => :json)\n",
      "bounding_box = FACTORY.parse_wkt( rgeo_geojson[0].geometry.to_s )\n",
      "puts \"Successfully processed Coastline Box. area is: #{bounding_box.area/1000000} square km\""
     ],
     "language": "python",
     "metadata": {},
     "outputs": [
      {
       "output_type": "stream",
       "stream": "stdout",
       "text": [
        "Successfully processed Coastline Box. area is: 23220.67304415562 square km\n"
       ]
      }
     ],
     "prompt_number": 77
    },
    {
     "cell_type": "code",
     "collapsed": false,
     "input": [
      "geojson_box2 = File.read('../GeoJSON/affected_coastline2.geojson')\n",
      "rgeo_geojson2 = RGeo::GeoJSON.decode(geojson_box2, :json_parser => :json)\n",
      "bounding_box2 = FACTORY.parse_wkt( rgeo_geojson2[0].geometry.to_s )\n",
      "puts \"Successfully processed Coastline Box. area is: #{bounding_box2.area/1000000} square km\""
     ],
     "language": "python",
     "metadata": {},
     "outputs": [
      {
       "output_type": "stream",
       "stream": "stdout",
       "text": [
        "Successfully processed Coastline Box. area is: 11150.874822118845 square km\n"
       ]
      }
     ],
     "prompt_number": 78
    },
    {
     "cell_type": "code",
     "collapsed": false,
     "input": [
      "geojson_box3 = File.read('../GeoJSON/NJ_BoundaryIslands.geojson')\n",
      "rgeo_geojson3 = RGeo::GeoJSON.decode(geojson_box3, :json_parser => :json)\n",
      "nj_boundary_islands = FACTORY.parse_wkt( rgeo_geojson3[0].geometry.to_s )\n",
      "puts \"Successfully processed Coastline Box. area is: #{nj_boundary_islands.area/1000000} square km\"\n"
     ],
     "language": "python",
     "metadata": {},
     "outputs": [
      {
       "output_type": "stream",
       "stream": "stdout",
       "text": [
        "Successfully processed Coastline Box. area is: 409.96957310869976 square km\n"
       ]
      }
     ],
     "prompt_number": 79
    },
    {
     "cell_type": "code",
     "collapsed": false,
     "input": [
      "#Now find the users who are in this box, and give them a new risk level...40 first, then 39, then do 38 for NJ\n",
      "Twitterer.where(:base_cluster_risk.lte => 50).limit(nil).each_with_index do |user, index|\n",
      "  if user.base_cluster_location.length == 2\n",
      "    point = FACTORY.point(user.base_cluster_location[0],user.base_cluster_location[1])\n",
      "    if point.within? nj_boundary_islands\n",
      "      user.base_cluster_risk = 38\n",
      "      user.save!\n",
      "    end\n",
      "  end\n",
      "  if index % 100==0\n",
      "    print index.to_s + \" \"\n",
      "  end\n",
      "end"
     ],
     "language": "python",
     "metadata": {},
     "outputs": [
      {
       "output_type": "stream",
       "stream": "stdout",
       "text": [
        "0 "
       ]
      },
      {
       "output_type": "stream",
       "stream": "stdout",
       "text": [
        "100 "
       ]
      },
      {
       "output_type": "stream",
       "stream": "stdout",
       "text": [
        "200 "
       ]
      },
      {
       "output_type": "stream",
       "stream": "stdout",
       "text": [
        "300 "
       ]
      },
      {
       "output_type": "stream",
       "stream": "stdout",
       "text": [
        "400 "
       ]
      },
      {
       "output_type": "stream",
       "stream": "stdout",
       "text": [
        "500 "
       ]
      },
      {
       "output_type": "stream",
       "stream": "stdout",
       "text": [
        "600 "
       ]
      },
      {
       "output_type": "stream",
       "stream": "stdout",
       "text": [
        "700 "
       ]
      },
      {
       "output_type": "stream",
       "stream": "stdout",
       "text": [
        "800 "
       ]
      },
      {
       "output_type": "stream",
       "stream": "stdout",
       "text": [
        "900 "
       ]
      },
      {
       "output_type": "stream",
       "stream": "stdout",
       "text": [
        "1000 "
       ]
      },
      {
       "output_type": "stream",
       "stream": "stdout",
       "text": [
        "1100 "
       ]
      },
      {
       "output_type": "stream",
       "stream": "stdout",
       "text": [
        "1200 "
       ]
      },
      {
       "output_type": "stream",
       "stream": "stdout",
       "text": [
        "1300 "
       ]
      },
      {
       "output_type": "stream",
       "stream": "stdout",
       "text": [
        "1400 "
       ]
      },
      {
       "output_type": "stream",
       "stream": "stdout",
       "text": [
        "1500 "
       ]
      },
      {
       "output_type": "stream",
       "stream": "stdout",
       "text": [
        "1600 "
       ]
      },
      {
       "output_type": "stream",
       "stream": "stdout",
       "text": [
        "1700 "
       ]
      },
      {
       "output_type": "stream",
       "stream": "stdout",
       "text": [
        "1800 "
       ]
      },
      {
       "output_type": "stream",
       "stream": "stdout",
       "text": [
        "1900 "
       ]
      },
      {
       "output_type": "stream",
       "stream": "stdout",
       "text": [
        "2000 "
       ]
      },
      {
       "output_type": "stream",
       "stream": "stdout",
       "text": [
        "2100 "
       ]
      },
      {
       "output_type": "stream",
       "stream": "stdout",
       "text": [
        "2200 "
       ]
      },
      {
       "output_type": "stream",
       "stream": "stdout",
       "text": [
        "2300 "
       ]
      },
      {
       "output_type": "stream",
       "stream": "stdout",
       "text": [
        "2400 "
       ]
      },
      {
       "output_type": "stream",
       "stream": "stdout",
       "text": [
        "2500 "
       ]
      },
      {
       "output_type": "stream",
       "stream": "stdout",
       "text": [
        "2600 "
       ]
      },
      {
       "output_type": "stream",
       "stream": "stdout",
       "text": [
        "2700 "
       ]
      },
      {
       "output_type": "stream",
       "stream": "stdout",
       "text": [
        "2800 "
       ]
      },
      {
       "output_type": "stream",
       "stream": "stdout",
       "text": [
        "2900 "
       ]
      },
      {
       "output_type": "stream",
       "stream": "stdout",
       "text": [
        "3000 "
       ]
      },
      {
       "output_type": "stream",
       "stream": "stdout",
       "text": [
        "3100 "
       ]
      },
      {
       "output_type": "stream",
       "stream": "stdout",
       "text": [
        "3200 "
       ]
      },
      {
       "output_type": "stream",
       "stream": "stdout",
       "text": [
        "3300 "
       ]
      },
      {
       "output_type": "stream",
       "stream": "stdout",
       "text": [
        "3400 "
       ]
      },
      {
       "output_type": "stream",
       "stream": "stdout",
       "text": [
        "3500 "
       ]
      },
      {
       "output_type": "stream",
       "stream": "stdout",
       "text": [
        "3600 "
       ]
      },
      {
       "output_type": "stream",
       "stream": "stdout",
       "text": [
        "3700 "
       ]
      },
      {
       "output_type": "stream",
       "stream": "stdout",
       "text": [
        "3800 "
       ]
      },
      {
       "output_type": "stream",
       "stream": "stdout",
       "text": [
        "3900 "
       ]
      },
      {
       "output_type": "stream",
       "stream": "stdout",
       "text": [
        "4000 "
       ]
      },
      {
       "output_type": "stream",
       "stream": "stdout",
       "text": [
        "4100 "
       ]
      },
      {
       "output_type": "stream",
       "stream": "stdout",
       "text": [
        "4200 "
       ]
      },
      {
       "output_type": "stream",
       "stream": "stdout",
       "text": [
        "4300 "
       ]
      },
      {
       "output_type": "stream",
       "stream": "stdout",
       "text": [
        "4400 "
       ]
      },
      {
       "output_type": "stream",
       "stream": "stdout",
       "text": [
        "4500 "
       ]
      },
      {
       "output_type": "stream",
       "stream": "stdout",
       "text": [
        "4600 "
       ]
      },
      {
       "output_type": "stream",
       "stream": "stdout",
       "text": [
        "4700 "
       ]
      },
      {
       "output_type": "stream",
       "stream": "stdout",
       "text": [
        "4800 "
       ]
      },
      {
       "output_type": "stream",
       "stream": "stdout",
       "text": [
        "4900 "
       ]
      },
      {
       "output_type": "stream",
       "stream": "stdout",
       "text": [
        "5000 "
       ]
      },
      {
       "output_type": "stream",
       "stream": "stdout",
       "text": [
        "5100 "
       ]
      },
      {
       "output_type": "stream",
       "stream": "stdout",
       "text": [
        "5200 "
       ]
      },
      {
       "output_type": "stream",
       "stream": "stdout",
       "text": [
        "5300 "
       ]
      },
      {
       "output_type": "stream",
       "stream": "stdout",
       "text": [
        "5400 "
       ]
      },
      {
       "output_type": "stream",
       "stream": "stdout",
       "text": [
        "5500 "
       ]
      },
      {
       "output_type": "stream",
       "stream": "stdout",
       "text": [
        "5600 "
       ]
      },
      {
       "output_type": "stream",
       "stream": "stdout",
       "text": [
        "5700 "
       ]
      },
      {
       "output_type": "stream",
       "stream": "stdout",
       "text": [
        "5800 "
       ]
      },
      {
       "output_type": "stream",
       "stream": "stdout",
       "text": [
        "5900 "
       ]
      },
      {
       "metadata": {},
       "output_type": "pyout",
       "prompt_number": 82,
       "text": [
        "#<MongoMapper::Plugins::Querying::DecoratedPluckyQuery _type: {\"$in\"=>[\"Twitterer\"]}, base_cluster_risk: {:$lte=>50}, limit: nil, transformer: #<Proc:0x007ff648a79cc0@/usr/local/var/rbenv/versions/2.0.0-p247/lib/ruby/gems/2.0.0/gems/mongo_mapper-0.13.1/lib/mongo_mapper/plugins/querying.rb:66 (lambda)>>"
       ]
      }
     ],
     "prompt_number": 82
    },
    {
     "cell_type": "code",
     "collapsed": false,
     "input": [
      "base_risk_38 = {type: \"FeatureCollection\", features: []}\n",
      "Twitterer.where(:base_cluster_risk =>  40).limit(nil).each_with_index do |user, index|\n",
      "  if user.base_cluster_location.length > 1\n",
      "    if coded_users.include? user.handle\n",
      "      code = true\n",
      "    else\n",
      "      code = false\n",
      "    end\n",
      "    base_risk_38[:features] << {\n",
      "      type: \"Feature\",\n",
      "      geometry: {type: \"Point\", coordinates: user.base_cluster_location},\n",
      "      properties:{\n",
      "        handle: user.handle,\n",
      "        tweets: user.tweet_count,\n",
      "        coded: code\n",
      "        }\n",
      "      }\n",
      "  end\n",
      "#   if index%100==0\n",
      "#     puts index\n",
      "#   end\n",
      "end\n",
      "File.write('/Users/jenningsanderson/Documents/Twitter-Evacutation-Patterns/assets/geojson/base_risk_40.geojson',base_risk_38.to_json)"
     ],
     "language": "python",
     "metadata": {},
     "outputs": [
      {
       "metadata": {},
       "output_type": "pyout",
       "prompt_number": 92,
       "text": [
        "157518"
       ]
      }
     ],
     "prompt_number": 92
    },
    {
     "cell_type": "code",
     "collapsed": false,
     "input": [
      "coded_users_geo = {type: \"FeatureCollection\", features: []}\n",
      "Twitterer.where(:handle.in => coded_users).limit(nil).each_with_index do |user, index|\n",
      "  puts user.base_cluster_risk \n",
      "  if user.base_cluster_location.length > 1\n",
      "    coded_users_geo[:features] << {\n",
      "      type: \"Feature\",\n",
      "      geometry: {type: \"Point\", coordinates: user.base_cluster_location},\n",
      "      properties:{\n",
      "        handle: user.handle,\n",
      "        tweets: user.tweet_count\n",
      "        }\n",
      "      }\n",
      "  end\n",
      "#   puts user.handle + user.base_cluster_location.to_s\n",
      "  if index%100==0\n",
      "    puts index\n",
      "  end\n",
      "end\n",
      "File.write('/Users/jenningsanderson/Documents/Twitter-Evacutation-Patterns/assets/geojson/coded_users_locations.geojson',coded_users_geo.to_json)"
     ],
     "language": "python",
     "metadata": {},
     "outputs": [
      {
       "output_type": "stream",
       "stream": "stdout",
       "text": [
        "50\n"
       ]
      },
      {
       "output_type": "stream",
       "stream": "stdout",
       "text": [
        "0\n"
       ]
      },
      {
       "output_type": "stream",
       "stream": "stdout",
       "text": [
        "50\n"
       ]
      },
      {
       "output_type": "stream",
       "stream": "stdout",
       "text": [
        "50\n"
       ]
      },
      {
       "output_type": "stream",
       "stream": "stdout",
       "text": [
        "50\n"
       ]
      },
      {
       "output_type": "stream",
       "stream": "stdout",
       "text": [
        "20\n"
       ]
      },
      {
       "output_type": "stream",
       "stream": "stdout",
       "text": [
        "50\n"
       ]
      },
      {
       "output_type": "stream",
       "stream": "stdout",
       "text": [
        "50\n"
       ]
      },
      {
       "output_type": "stream",
       "stream": "stdout",
       "text": [
        "50\n"
       ]
      },
      {
       "output_type": "stream",
       "stream": "stdout",
       "text": [
        "50\n"
       ]
      },
      {
       "output_type": "stream",
       "stream": "stdout",
       "text": [
        "12\n"
       ]
      },
      {
       "output_type": "stream",
       "stream": "stdout",
       "text": [
        "20\n"
       ]
      },
      {
       "output_type": "stream",
       "stream": "stdout",
       "text": [
        "10\n"
       ]
      },
      {
       "output_type": "stream",
       "stream": "stdout",
       "text": [
        "50\n"
       ]
      },
      {
       "output_type": "stream",
       "stream": "stdout",
       "text": [
        "50\n"
       ]
      },
      {
       "output_type": "stream",
       "stream": "stdout",
       "text": [
        "20\n"
       ]
      },
      {
       "output_type": "stream",
       "stream": "stdout",
       "text": [
        "50\n"
       ]
      },
      {
       "output_type": "stream",
       "stream": "stdout",
       "text": [
        "50\n"
       ]
      },
      {
       "output_type": "stream",
       "stream": "stdout",
       "text": [
        "50\n"
       ]
      },
      {
       "output_type": "stream",
       "stream": "stdout",
       "text": [
        "50\n"
       ]
      },
      {
       "output_type": "stream",
       "stream": "stdout",
       "text": [
        "20\n"
       ]
      },
      {
       "output_type": "stream",
       "stream": "stdout",
       "text": [
        "50\n"
       ]
      },
      {
       "output_type": "stream",
       "stream": "stdout",
       "text": [
        "50\n"
       ]
      },
      {
       "output_type": "stream",
       "stream": "stdout",
       "text": [
        "20\n"
       ]
      },
      {
       "output_type": "stream",
       "stream": "stdout",
       "text": [
        "50\n"
       ]
      },
      {
       "output_type": "stream",
       "stream": "stdout",
       "text": [
        "50\n"
       ]
      },
      {
       "output_type": "stream",
       "stream": "stdout",
       "text": [
        "50\n"
       ]
      },
      {
       "output_type": "stream",
       "stream": "stdout",
       "text": [
        "50\n"
       ]
      },
      {
       "output_type": "stream",
       "stream": "stdout",
       "text": [
        "50\n"
       ]
      },
      {
       "output_type": "stream",
       "stream": "stdout",
       "text": [
        "50\n"
       ]
      },
      {
       "output_type": "stream",
       "stream": "stdout",
       "text": [
        "50\n"
       ]
      },
      {
       "output_type": "stream",
       "stream": "stdout",
       "text": [
        "50\n"
       ]
      },
      {
       "output_type": "stream",
       "stream": "stdout",
       "text": [
        "12\n"
       ]
      },
      {
       "output_type": "stream",
       "stream": "stdout",
       "text": [
        "20\n"
       ]
      },
      {
       "output_type": "stream",
       "stream": "stdout",
       "text": [
        "30\n"
       ]
      },
      {
       "output_type": "stream",
       "stream": "stdout",
       "text": [
        "50\n"
       ]
      },
      {
       "output_type": "stream",
       "stream": "stdout",
       "text": [
        "50\n"
       ]
      },
      {
       "output_type": "stream",
       "stream": "stdout",
       "text": [
        "20\n"
       ]
      },
      {
       "output_type": "stream",
       "stream": "stdout",
       "text": [
        "50\n"
       ]
      },
      {
       "output_type": "stream",
       "stream": "stdout",
       "text": [
        "50\n"
       ]
      },
      {
       "output_type": "stream",
       "stream": "stdout",
       "text": [
        "20\n"
       ]
      },
      {
       "output_type": "stream",
       "stream": "stdout",
       "text": [
        "50\n"
       ]
      },
      {
       "output_type": "stream",
       "stream": "stdout",
       "text": [
        "50\n"
       ]
      },
      {
       "output_type": "stream",
       "stream": "stdout",
       "text": [
        "50\n"
       ]
      },
      {
       "output_type": "stream",
       "stream": "stdout",
       "text": [
        "50\n"
       ]
      },
      {
       "output_type": "stream",
       "stream": "stdout",
       "text": [
        "40\n"
       ]
      },
      {
       "output_type": "stream",
       "stream": "stdout",
       "text": [
        "20\n"
       ]
      },
      {
       "output_type": "stream",
       "stream": "stdout",
       "text": [
        "50\n"
       ]
      },
      {
       "output_type": "stream",
       "stream": "stdout",
       "text": [
        "20\n"
       ]
      },
      {
       "output_type": "stream",
       "stream": "stdout",
       "text": [
        "50\n"
       ]
      },
      {
       "output_type": "stream",
       "stream": "stdout",
       "text": [
        "50\n"
       ]
      },
      {
       "output_type": "stream",
       "stream": "stdout",
       "text": [
        "50\n"
       ]
      },
      {
       "output_type": "stream",
       "stream": "stdout",
       "text": [
        "50\n"
       ]
      },
      {
       "output_type": "stream",
       "stream": "stdout",
       "text": [
        "20\n"
       ]
      },
      {
       "output_type": "stream",
       "stream": "stdout",
       "text": [
        "50\n"
       ]
      },
      {
       "output_type": "stream",
       "stream": "stdout",
       "text": [
        "50\n"
       ]
      },
      {
       "output_type": "stream",
       "stream": "stdout",
       "text": [
        "50\n"
       ]
      },
      {
       "output_type": "stream",
       "stream": "stdout",
       "text": [
        "20\n"
       ]
      },
      {
       "output_type": "stream",
       "stream": "stdout",
       "text": [
        "50\n"
       ]
      },
      {
       "output_type": "stream",
       "stream": "stdout",
       "text": [
        "20\n"
       ]
      },
      {
       "output_type": "stream",
       "stream": "stdout",
       "text": [
        "50\n"
       ]
      },
      {
       "output_type": "stream",
       "stream": "stdout",
       "text": [
        "20\n"
       ]
      },
      {
       "output_type": "stream",
       "stream": "stdout",
       "text": [
        "20\n"
       ]
      },
      {
       "output_type": "stream",
       "stream": "stdout",
       "text": [
        "50\n"
       ]
      },
      {
       "output_type": "stream",
       "stream": "stdout",
       "text": [
        "50\n"
       ]
      },
      {
       "output_type": "stream",
       "stream": "stdout",
       "text": [
        "50\n"
       ]
      },
      {
       "output_type": "stream",
       "stream": "stdout",
       "text": [
        "50\n"
       ]
      },
      {
       "output_type": "stream",
       "stream": "stdout",
       "text": [
        "60\n"
       ]
      },
      {
       "output_type": "stream",
       "stream": "stdout",
       "text": [
        "50\n"
       ]
      },
      {
       "output_type": "stream",
       "stream": "stdout",
       "text": [
        "20\n"
       ]
      },
      {
       "output_type": "stream",
       "stream": "stdout",
       "text": [
        "11\n"
       ]
      },
      {
       "output_type": "stream",
       "stream": "stdout",
       "text": [
        "50\n"
       ]
      },
      {
       "output_type": "stream",
       "stream": "stdout",
       "text": [
        "50\n"
       ]
      },
      {
       "output_type": "stream",
       "stream": "stdout",
       "text": [
        "12\n"
       ]
      },
      {
       "output_type": "stream",
       "stream": "stdout",
       "text": [
        "50\n"
       ]
      },
      {
       "output_type": "stream",
       "stream": "stdout",
       "text": [
        "50\n"
       ]
      },
      {
       "output_type": "stream",
       "stream": "stdout",
       "text": [
        "20\n"
       ]
      },
      {
       "output_type": "stream",
       "stream": "stdout",
       "text": [
        "20\n"
       ]
      },
      {
       "output_type": "stream",
       "stream": "stdout",
       "text": [
        "70\n"
       ]
      },
      {
       "output_type": "stream",
       "stream": "stdout",
       "text": [
        "20\n"
       ]
      },
      {
       "output_type": "stream",
       "stream": "stdout",
       "text": [
        "50\n"
       ]
      },
      {
       "output_type": "stream",
       "stream": "stdout",
       "text": [
        "20\n"
       ]
      },
      {
       "output_type": "stream",
       "stream": "stdout",
       "text": [
        "50\n"
       ]
      },
      {
       "output_type": "stream",
       "stream": "stdout",
       "text": [
        "50\n"
       ]
      },
      {
       "output_type": "stream",
       "stream": "stdout",
       "text": [
        "50\n"
       ]
      },
      {
       "output_type": "stream",
       "stream": "stdout",
       "text": [
        "50\n"
       ]
      },
      {
       "output_type": "stream",
       "stream": "stdout",
       "text": [
        "50\n"
       ]
      },
      {
       "output_type": "stream",
       "stream": "stdout",
       "text": [
        "20\n"
       ]
      },
      {
       "output_type": "stream",
       "stream": "stdout",
       "text": [
        "50\n"
       ]
      },
      {
       "output_type": "stream",
       "stream": "stdout",
       "text": [
        "80\n"
       ]
      },
      {
       "output_type": "stream",
       "stream": "stdout",
       "text": [
        "50\n"
       ]
      },
      {
       "output_type": "stream",
       "stream": "stdout",
       "text": [
        "50\n"
       ]
      },
      {
       "output_type": "stream",
       "stream": "stdout",
       "text": [
        "20\n"
       ]
      },
      {
       "output_type": "stream",
       "stream": "stdout",
       "text": [
        "50\n"
       ]
      },
      {
       "output_type": "stream",
       "stream": "stdout",
       "text": [
        "20\n"
       ]
      },
      {
       "output_type": "stream",
       "stream": "stdout",
       "text": [
        "20\n"
       ]
      },
      {
       "output_type": "stream",
       "stream": "stdout",
       "text": [
        "10\n"
       ]
      },
      {
       "output_type": "stream",
       "stream": "stdout",
       "text": [
        "20\n"
       ]
      },
      {
       "output_type": "stream",
       "stream": "stdout",
       "text": [
        "50\n"
       ]
      },
      {
       "output_type": "stream",
       "stream": "stdout",
       "text": [
        "20\n"
       ]
      },
      {
       "output_type": "stream",
       "stream": "stdout",
       "text": [
        "90\n"
       ]
      },
      {
       "output_type": "stream",
       "stream": "stdout",
       "text": [
        "50\n"
       ]
      },
      {
       "output_type": "stream",
       "stream": "stdout",
       "text": [
        "20\n"
       ]
      },
      {
       "output_type": "stream",
       "stream": "stdout",
       "text": [
        "50\n"
       ]
      },
      {
       "output_type": "stream",
       "stream": "stdout",
       "text": [
        "50\n"
       ]
      },
      {
       "metadata": {},
       "output_type": "pyout",
       "prompt_number": 32,
       "text": [
        "12555"
       ]
      }
     ],
     "prompt_number": 32
    },
    {
     "cell_type": "code",
     "collapsed": false,
     "input": [
      "user = Twitterer.where({handle: '37kyle'}).first\n",
      "user.get_base_cluster"
     ],
     "language": "python",
     "metadata": {},
     "outputs": [],
     "prompt_number": 20
    },
    {
     "cell_type": "code",
     "collapsed": false,
     "input": [
      "puts coded_users"
     ],
     "language": "python",
     "metadata": {},
     "outputs": [
      {
       "output_type": "stream",
       "stream": "stdout",
       "text": [
        "[\"GinaBoop21\", \"4thFloorWalkUp\", \"acbrush\", \"1903barisdamci\", \"aalhaider84\", \"977wctyJesse\", \"D_AGOSTINO\", \"AdieMeshel\", \"rcrocetti\", \"acdm\", \"sandy_nj_24_onacitaveoz\", \"ccompitiello\", \"3ltutuykt\", \"2fritters\", \"502BIGBLOCK\", \"JFranxMon\", \"aby_orozco\", \"246TiffTiff\", \"nikkovision\", \"acdcrocker94\", \"sandy_nj_41_forero29\", \"sandy_nj_32_txcoonz\", \"voudonchilde\", \"adiesaurus\", \"abestt\", \"aaronlugo20\", \"yogabeth218\", \"AdamBroitman\", \"sandy_nj_43_compa_tijero\", \"37kyle\", \"12CornersNYC\", \"ABerneche11\", \"hatchedit\", \"aanniemal\", \"ryryrocketss\", \"AbdulazizSadeq\", \"sandy_nj_45_JoeeSmith19\", \"acordingley\", \"a13xandraaaa\", \"WaitingQueen\", \"sandy_nj_30_danielleleiner\", \"abr74\", \"92Hughes92\", \"brittlizarda\", \"33amelie\", \"sandy_nj_22_aidenscott\", \"5pointbuck\", \"aceytoso_2\", \"TravissGraham\", \"sandy_nj_21_Nikki_DeMarco\", \"haleyybreen\", \"abrackin\", \"sandy_nj_44_DDSethi\", \"sandy_nj_20_haleighbethhh\", \"Mac_DA_45\", \"40Visionz\", \"sandy_nj_42_b_mazzz\", \"132Sunshine\", \"1stFITNESSMC\", \"sandy_nj_37_CluelessMaven\", \"adel1196\", \"aaziz830\", \"adawood30\", \"DbLeonor\", \"bakedtofu\", \"ActualyAmGeorge\", \"AdamVanBavel\", \"workfreelyblog\", \"HarriBoiii\", \"brieeellee\", \"AndeLund\", \"1Vincent\", \"sandy_nj_36_Zach_Massari10\", \"sandy_nj_39_Roze_316\", \"sandy_nj_23_RedJazz43\", \"1xr650guy\", \"lizeeSuX\", \"4everSeductive\", \"sandy_nj_33_AmberAAlonzo\", \"Kessel_Erich2\", \"adamebnit\", \"sandy_nj_38_PainFresh6\", \"according2Drew\", \"Tyler_Mayer\", \"sandy_nj_35_Sara_Persiano\", \"adampdouglas\", \"ACPressLee\", \"AdamHedenskog\", \"sandy_nj_29_Caitles16\", \"adonatelle\", \"sandy_nj_27_DJsonatra\", \"sandy_nj_31_Scott_Gaffney\", \"GrooDs\", \"acwelch\", \"sandy_nj_26_just_teevo\", \"sandy_nj_28_mynameisluissss\", \"sandy_nj_25_kcgirl2003\"]\n"
       ]
      }
     ],
     "prompt_number": 23
    },
    {
     "cell_type": "code",
     "collapsed": false,
     "input": [
      "affected_boundaries = {type: \"FeatureCollection\", features: []}\n",
      "nj = JSON.load(File.read('../GeoJSON/NJ_BoundaryIslands.geojson'))\n",
      "affected_boundaries[:features] <<\n",
      "  {type: \"Feature\", properties: {\n",
      "    Name: \"New Jersey Barrier Islands\",\n",
      "    Risk: 38\n",
      "    },\n",
      "    geometry: nj[\"features\"][0][\"geometry\"]\n",
      "}\n",
      "coastal4k = JSON.load(File.read('../GeoJSON/affected_coastline_4k.geojson'))\n",
      "coastal2  = JSON.load(File.read('../GeoJSON/affected_coastline2.geojson'))\n",
      "\n",
      "affected_boundaries[:features] <<\n",
      "  {type: \"Feature\", properties: {\n",
      "    Name: \"Affected Coastline (4k Buffer)\",\n",
      "    Risk: 40\n",
      "    },\n",
      "    geometry: coastal4k[\"features\"][0][\"geometry\"]\n",
      "}\n",
      "\n",
      "affected_boundaries[:features] <<\n",
      "  {type: \"Feature\", properties: {\n",
      "    Name: \"Affected Coastline (2k Buffer)\",\n",
      "    Risk: 39\n",
      "    },\n",
      "    geometry: coastal2[\"features\"][0][\"geometry\"]\n",
      "}\n",
      "\n",
      "File.write('/Users/jenningsanderson/Documents/Twitter-Evacutation-Patterns/assets/geojson/affected_boundaries.geojson',affected_boundaries.to_json)"
     ],
     "language": "python",
     "metadata": {},
     "outputs": [
      {
       "metadata": {},
       "output_type": "pyout",
       "prompt_number": 86,
       "text": [
        "349559"
       ]
      }
     ],
     "prompt_number": 86
    },
    {
     "cell_type": "code",
     "collapsed": false,
     "input": [],
     "language": "python",
     "metadata": {},
     "outputs": []
    }
   ],
   "metadata": {}
  }
 ]
}